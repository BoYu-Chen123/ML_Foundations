{
 "cells": [
  {
   "cell_type": "code",
   "execution_count": 219,
   "metadata": {},
   "outputs": [],
   "source": [
    "import numpy as np\n",
    "def train(times, set_size, tau):\n",
    "    out_minus_in = 0\n",
    "    for T in range(times):\n",
    "        print(T, end='\\r')\n",
    "        ## get x_set, y_set\n",
    "        x_set = np.sort(np.random.uniform(-1, 1, set_size))\n",
    "        y_set = np.zeros([set_size])\n",
    "        num_negative = 0\n",
    "        for i in range(set_size):\n",
    "            y_set[i] = np.sign(x_set[i])\n",
    "            if y_set[i]==0:\n",
    "                y_set[i] = -1\n",
    "            temp = np.random.uniform(0, 1)\n",
    "            if temp<=tau:\n",
    "                y_set[i] *= -1\n",
    "            if y_set[i]==-1:\n",
    "                num_negative += 1              \n",
    "        ##dp_table, E_in\n",
    "        dp_table = np.zeros([2, set_size])\n",
    "        dp_table[0][0] = set_size-num_negative ## s=-1 預測錯的個數\n",
    "        dp_table[1][0] = num_negative ## s=1 預測錯的個數\n",
    "        for i in range(1, set_size):\n",
    "            if y_set[i-1]==-1:\n",
    "                dp_table[0][i] = dp_table[0][i-1] + 1\n",
    "                dp_table[1][i] = dp_table[1][i-1] -1\n",
    "            elif y_set[i-1]==1:\n",
    "                dp_table[0][i] = dp_table[0][i-1] - 1\n",
    "                dp_table[1][i] = dp_table[1][i-1] + 1\n",
    "        E_in = np.min(dp_table) / set_size\n",
    "        ##s, theta\n",
    "        index = np.unravel_index(np.argmin(dp_table, axis=None), dp_table.shape)\n",
    "        if index[0] == 0:\n",
    "            s = -1\n",
    "        elif index[0] == 1:\n",
    "            s = 1\n",
    "        which_theta = index[1]\n",
    "        if which_theta == 0:\n",
    "            theta = -1\n",
    "        else:\n",
    "            theta = (x_set[which_theta-1] + x_set[which_theta]) / 2        \n",
    "         ##E_out\n",
    "        if s == -1:\n",
    "            E_out = 1 - (0.5 * abs(theta))\n",
    "        elif s == 1:\n",
    "            E_out = 0.5 * abs(theta)\n",
    "        E_out = E_out*(1-(2*tau))+tau\n",
    "            \n",
    "        out_minus_in += (E_out-E_in)\n",
    "    mean = out_minus_in/times\n",
    "    return mean"
   ]
  },
  {
   "cell_type": "code",
   "execution_count": 220,
   "metadata": {},
   "outputs": [
    {
     "name": "stdout",
     "output_type": "stream",
     "text": [
      "mean_16 0.2907575302757793\n"
     ]
    }
   ],
   "source": [
    "mean_16 = train(10000, 2, 0)\n",
    "print(\"mean_16\", mean_16)"
   ]
  },
  {
   "cell_type": "code",
   "execution_count": 221,
   "metadata": {},
   "outputs": [
    {
     "name": "stdout",
     "output_type": "stream",
     "text": [
      "mean_17 0.024181985529829673\n"
     ]
    }
   ],
   "source": [
    "mean_17 = train(10000, 20, 0)\n",
    "print(\"mean_17\", mean_17)"
   ]
  },
  {
   "cell_type": "code",
   "execution_count": 222,
   "metadata": {},
   "outputs": [
    {
     "name": "stdout",
     "output_type": "stream",
     "text": [
      "mean_18 0.36722770808211214\n"
     ]
    }
   ],
   "source": [
    "mean_18 = train(10000, 2, 0.1)\n",
    "print(\"mean_18\", mean_18)"
   ]
  },
  {
   "cell_type": "code",
   "execution_count": 223,
   "metadata": {},
   "outputs": [
    {
     "name": "stdout",
     "output_type": "stream",
     "text": [
      "mean_19 0.05157750106317468\n"
     ]
    }
   ],
   "source": [
    "mean_19 = train(10000, 20, 0.1)\n",
    "print(\"mean_19\", mean_19)"
   ]
  },
  {
   "cell_type": "code",
   "execution_count": 224,
   "metadata": {},
   "outputs": [
    {
     "name": "stdout",
     "output_type": "stream",
     "text": [
      "mean_20 0.005457546034295806\n"
     ]
    }
   ],
   "source": [
    "mean_20 = train(10000, 200, 0.1)\n",
    "print(\"mean_20\", mean_20)"
   ]
  }
 ],
 "metadata": {
  "kernelspec": {
   "display_name": "Python 3",
   "language": "python",
   "name": "python3"
  },
  "language_info": {
   "codemirror_mode": {
    "name": "ipython",
    "version": 3
   },
   "file_extension": ".py",
   "mimetype": "text/x-python",
   "name": "python",
   "nbconvert_exporter": "python",
   "pygments_lexer": "ipython3",
   "version": "3.7.7"
  }
 },
 "nbformat": 4,
 "nbformat_minor": 4
}
