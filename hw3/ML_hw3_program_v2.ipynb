{
 "cells": [
  {
   "cell_type": "code",
   "execution_count": 1,
   "metadata": {},
   "outputs": [],
   "source": [
    "import numpy as np"
   ]
  },
  {
   "cell_type": "code",
   "execution_count": 2,
   "metadata": {},
   "outputs": [],
   "source": [
    "def read_file(filename):\n",
    "    X = []\n",
    "    Y = []\n",
    "    for lines in open(filename).readlines():\n",
    "        temp = lines.strip().split()\n",
    "        x = [1]\n",
    "        for i in range(10):\n",
    "            x.append(float(temp[i]))\n",
    "        X.append(x)\n",
    "        Y.append(float(temp[-1]))\n",
    "    X = np.asarray(X)\n",
    "    Y = np.asarray(Y)\n",
    "    return X, Y\n",
    "\n",
    "train_data = \"hw3_train.dat.txt\"\n",
    "test_data = \"hw3_test.dat.txt\"\n",
    "X, Y = read_file(train_data)\n",
    "X_test, Y_test = read_file(test_data)\n",
    "\n",
    "def zero_one_error(data_num, W, X, Y):\n",
    "    zero_one_error = 0\n",
    "    for n in range(data_num):\n",
    "        score = np.dot(W, X[n])\n",
    "        if np.sign(score) != np.sign(Y[n]):\n",
    "            zero_one_error += 1\n",
    "    zero_one_error /= data_num\n",
    "    return zero_one_error\n",
    "\n",
    "def transform(data_num, Q, X):\n",
    "    Q_X = []\n",
    "    for n in range(data_num):\n",
    "        temp = [1]\n",
    "        for q in range(1, Q+1):\n",
    "            for i in range(1, len(X[n])):\n",
    "                temp.append(X[n][i] ** q)\n",
    "        Q_X.append(temp)\n",
    "    return Q_X"
   ]
  },
  {
   "cell_type": "code",
   "execution_count": 3,
   "metadata": {},
   "outputs": [
    {
     "name": "stdout",
     "output_type": "stream",
     "text": [
      "14.sqr_error:  0.6053223804672916\n"
     ]
    }
   ],
   "source": [
    "## 14\n",
    "W_lin = np.dot(np.dot(np.linalg.inv(np.dot(X.T, X)), X.T), Y)\n",
    "data_num = len(X)\n",
    "sqr_error = 0\n",
    "for i in range(data_num):\n",
    "    score = np.dot(W_lin, X[i])\n",
    "    sqr_error += (score-Y[i])**2\n",
    "sqr_error /= data_num\n",
    "print(\"14.sqr_error: \", sqr_error)"
   ]
  },
  {
   "cell_type": "code",
   "execution_count": 4,
   "metadata": {},
   "outputs": [
    {
     "name": "stdout",
     "output_type": "stream",
     "text": [
      "15.aver_iteration:  1852.502\n"
     ]
    }
   ],
   "source": [
    "## 15\n",
    "eta = 0.001\n",
    "threshold = sqr_error*1.01\n",
    "total_num_of_iter = 0\n",
    "for T in range(1000):\n",
    "    np.random.seed(T)\n",
    "    num_of_iter = 0\n",
    "    w = np.zeros([11], dtype=float)\n",
    "    while(1):\n",
    "        num_of_iter += 1\n",
    "        n = np.random.randint(1000)\n",
    "        v = 2*(Y[n]-np.dot(w, X[n])) * X[n]\n",
    "        w += (eta * v)\n",
    "        E_in = 0\n",
    "        score = np.dot(X, w)\n",
    "        E_in = np.mean((score-Y)**2)\n",
    "        if(E_in <= threshold):\n",
    "            break\n",
    "    print(T, \":\", num_of_iter, end='\\r')\n",
    "    total_num_of_iter += num_of_iter\n",
    "print(\"15.aver_iteration: \", total_num_of_iter/1000)"
   ]
  },
  {
   "cell_type": "code",
   "execution_count": 5,
   "metadata": {},
   "outputs": [
    {
     "name": "stdout",
     "output_type": "stream",
     "text": [
      "16.aver_ce_error:  0.5691125350817864\n"
     ]
    }
   ],
   "source": [
    "## 16\n",
    "eta = 0.001\n",
    "aver_ce_error = 0\n",
    "for T in range(1000):\n",
    "    print(T, end='\\r')\n",
    "    np.random.seed(T)\n",
    "    picked_points = np.random.randint(1000, size=500)\n",
    "    w = np.zeros([11], dtype=float)\n",
    "    for i in range(500):\n",
    "        n = picked_points[i]\n",
    "        s = -Y[n] * (np.dot(w.T, X[n]))\n",
    "        w += eta * (1/(1+np.exp(-s))) * (Y[n]*X[n])\n",
    "    \n",
    "    ce_error = 0\n",
    "    for n in range(data_num):\n",
    "        s = -Y[n] * (np.dot(w.T, X[n]))\n",
    "        ce_error += np.log(1+np.exp(s))\n",
    "    ce_error /= data_num\n",
    "    aver_ce_error += ce_error\n",
    "aver_ce_error /= 1000\n",
    "print(\"16.aver_ce_error: \", aver_ce_error)"
   ]
  },
  {
   "cell_type": "code",
   "execution_count": 6,
   "metadata": {},
   "outputs": [
    {
     "name": "stdout",
     "output_type": "stream",
     "text": [
      "17.aver_ce_error:  0.5028521605674319\n"
     ]
    }
   ],
   "source": [
    "## 17\n",
    "eta = 0.001\n",
    "aver_ce_error = 0\n",
    "for T in range(1000):\n",
    "    print(T, end='\\r')\n",
    "    np.random.seed(T)\n",
    "    picked_points = np.random.randint(1000, size=500)\n",
    "    w = np.copy(W_lin)\n",
    "    for i in range(500):\n",
    "        n = picked_points[i]\n",
    "        s = -Y[n] * (np.dot(w.T, X[n]))\n",
    "        w += eta * (1/(1+np.exp(-s))) * (Y[n]*X[n])\n",
    "    \n",
    "    ce_error = 0\n",
    "    for n in range(data_num):\n",
    "        s = -Y[n] * (np.dot(w.T, X[n]))\n",
    "        ce_error += np.log(1+np.exp(s))\n",
    "    ce_error /= data_num\n",
    "    aver_ce_error += ce_error\n",
    "aver_ce_error /= 1000\n",
    "print(\"17.aver_ce_error: \", aver_ce_error)"
   ]
  },
  {
   "cell_type": "code",
   "execution_count": 7,
   "metadata": {},
   "outputs": [
    {
     "name": "stdout",
     "output_type": "stream",
     "text": [
      "18.Ein_Eout: 0.3226666666666666\n"
     ]
    }
   ],
   "source": [
    "## 18\n",
    "test_data_num = len(X_test)\n",
    "\n",
    "train_error = zero_one_error(data_num, W_lin, X, Y)\n",
    "test_error = zero_one_error(test_data_num, W_lin, X_test, Y_test)\n",
    "\n",
    "print(\"18.Ein_Eout:\", abs(train_error-test_error))"
   ]
  },
  {
   "cell_type": "code",
   "execution_count": 8,
   "metadata": {},
   "outputs": [
    {
     "name": "stdout",
     "output_type": "stream",
     "text": [
      "19.Ein_Eout: 0.37366666666666665\n"
     ]
    }
   ],
   "source": [
    "## 19\n",
    "Q = 3\n",
    "Q_X = transform(data_num, Q, X)\n",
    "Q_X_test = transform(test_data_num, Q, X_test)\n",
    "Q_X = np.asarray(Q_X)\n",
    "Q_X_test = np.asarray(Q_X_test)\n",
    "\n",
    "Q_W_lin = np.dot(np.dot(np.linalg.inv(np.dot(Q_X.T, Q_X)), Q_X.T), Y)\n",
    "\n",
    "train_error = zero_one_error(data_num, Q_W_lin, Q_X, Y)\n",
    "test_error = zero_one_error(test_data_num, Q_W_lin, Q_X_test, Y_test)\n",
    "\n",
    "print(\"19.Ein_Eout:\", abs(train_error-test_error))"
   ]
  },
  {
   "cell_type": "code",
   "execution_count": 9,
   "metadata": {},
   "outputs": [
    {
     "name": "stdout",
     "output_type": "stream",
     "text": [
      "20.Ein_Eout: 0.44666666666666666\n"
     ]
    }
   ],
   "source": [
    "## 20\n",
    "Q = 10\n",
    "Q_X = transform(data_num, Q, X)\n",
    "Q_X_test = transform(test_data_num, Q, X_test)\n",
    "Q_X = np.asarray(Q_X)\n",
    "Q_X_test = np.asarray(Q_X_test)\n",
    "\n",
    "Q_W_lin = np.dot(np.dot(np.linalg.inv(np.dot(Q_X.T, Q_X)), Q_X.T), Y)\n",
    "\n",
    "train_error = zero_one_error(data_num, Q_W_lin, Q_X, Y)\n",
    "test_error = zero_one_error(test_data_num, Q_W_lin, Q_X_test, Y_test)\n",
    "\n",
    "print(\"20.Ein_Eout:\", abs(train_error-test_error))"
   ]
  },
  {
   "cell_type": "code",
   "execution_count": null,
   "metadata": {},
   "outputs": [],
   "source": []
  }
 ],
 "metadata": {
  "kernelspec": {
   "display_name": "Python 3",
   "language": "python",
   "name": "python3"
  },
  "language_info": {
   "codemirror_mode": {
    "name": "ipython",
    "version": 3
   },
   "file_extension": ".py",
   "mimetype": "text/x-python",
   "name": "python",
   "nbconvert_exporter": "python",
   "pygments_lexer": "ipython3",
   "version": "3.7.7"
  }
 },
 "nbformat": 4,
 "nbformat_minor": 4
}
