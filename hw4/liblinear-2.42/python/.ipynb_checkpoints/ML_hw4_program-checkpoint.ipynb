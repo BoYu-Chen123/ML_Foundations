{
 "cells": [
  {
   "cell_type": "code",
   "execution_count": 11,
   "metadata": {},
   "outputs": [],
   "source": [
    "import numpy as np\n",
    "from liblinearutil import *"
   ]
  },
  {
   "cell_type": "code",
   "execution_count": 12,
   "metadata": {},
   "outputs": [],
   "source": [
    "def readfile(filename):\n",
    "    X = []\n",
    "    Y = []\n",
    "    for lines in open(filename).readlines():\n",
    "        temp = lines.strip().split()\n",
    "        x = [1]\n",
    "        for i in range(6):\n",
    "            x.append(float(temp[i]))\n",
    "        for i in range(6):\n",
    "            for j in range(6):\n",
    "                if i<=j:\n",
    "                    x.append(float(temp[i])*float(temp[j]))\n",
    "        X.append(x)\n",
    "        Y.append(float(temp[-1]))\n",
    "    X = np.asarray(X)\n",
    "    Y = np.asarray(Y)\n",
    "    return X, Y"
   ]
  },
  {
   "cell_type": "code",
   "execution_count": 10,
   "metadata": {},
   "outputs": [
    {
     "name": "stdout",
     "output_type": "stream",
     "text": [
      "(200, 28) : (200,)\n",
      "(300, 28) : (300,)\n"
     ]
    }
   ],
   "source": [
    "trainfile = \"../../hw4_train.dat.txt\"\n",
    "testfile = \"../../hw4_test.dat.txt\"\n",
    "X, Y = readfile(trainfile)\n",
    "Xt, Yt = readfile(testfile)\n",
    "print(np.shape(X), \":\", np.shape(Y))\n",
    "print(np.shape(Xt), \":\", np.shape(Yt))"
   ]
  },
  {
   "cell_type": "code",
   "execution_count": 23,
   "metadata": {},
   "outputs": [
    {
     "name": "stdout",
     "output_type": "stream",
     "text": [
      "Accuracy = 86.6667% (260/300) (classification)\n",
      "Accuracy = 91% (182/200) (classification)\n",
      "Accuracy = 87% (261/300) (classification)\n",
      "Accuracy = 90% (180/200) (classification)\n",
      "Accuracy = 80.6667% (242/300) (classification)\n",
      "Accuracy = 87% (174/200) (classification)\n",
      "Accuracy = 74.3333% (223/300) (classification)\n",
      "Accuracy = 80.5% (161/200) (classification)\n",
      "Accuracy = 51.6667% (155/300) (classification)\n",
      "Accuracy = 46.5% (93/200) (classification)\n",
      "16.:  -2.0\n",
      "17.:  -4.0\n"
     ]
    }
   ],
   "source": [
    "##16, 17\n",
    "l = [10**(-4), 10**(-2), 10**0, 10**2, 10**4]\n",
    "max_out_acc = 0\n",
    "l_out = -1\n",
    "max_in_acc = 0\n",
    "l_in = -1\n",
    "for i in range(len(l)):\n",
    "    C = 1/(2*l[i])\n",
    "    param = '-s 0 -c ' + str(C) + ' -e 0.000001'\n",
    "    m = train(Y, X, param)\n",
    "    p_out_labels, p_out_acc, p_out_vals = predict(Yt, Xt, m)\n",
    "    if p_out_acc[0] >= max_out_acc:\n",
    "        max_out_acc = p_out_acc[0]\n",
    "        l_out = i\n",
    "    p_in_labels, p_in_acc, p_in_vals = predict(Y, X, m)\n",
    "    if p_in_acc[0] >= max_in_acc:\n",
    "        max_in_acc = p_in_acc[0]\n",
    "        l_in = i\n",
    "print(\"16.: \", np.log10(l[l_out]))\n",
    "print(\"17.: \", np.log10(l[l_in]))"
   ]
  },
  {
   "cell_type": "code",
   "execution_count": 50,
   "metadata": {},
   "outputs": [
    {
     "name": "stdout",
     "output_type": "stream",
     "text": [
      "Accuracy = 80% (64/80) (classification)\n",
      "Accuracy = 86.25% (69/80) (classification)\n",
      "Accuracy = 76.25% (61/80) (classification)\n",
      "Accuracy = 73.75% (59/80) (classification)\n",
      "Accuracy = 42.5% (34/80) (classification)\n",
      "Accuracy = 85.6667% (257/300) (classification)\n",
      "18.:  0.14333333333333328\n"
     ]
    }
   ],
   "source": [
    "##18\n",
    "l = [10**(-4), 10**(-2), 10**0, 10**2, 10**4]\n",
    "X_train = X[:120]\n",
    "Y_train = Y[:120]\n",
    "X_val = X[120:]\n",
    "Y_val = Y[120:]\n",
    "max_val_acc = 0\n",
    "l_val = -1\n",
    "for i in range(len(l)):\n",
    "    C = 1/(2*l[i])\n",
    "    param = '-s 0 -c ' + str(C) + ' -e 0.000001'\n",
    "    m = train(Y_train, X_train, param)\n",
    "    p_val_labels, p_val_acc, p_val_vals = predict(Y_val, X_val, m)\n",
    "    if p_val_acc[0] >= max_val_acc:\n",
    "        max_val_acc = p_val_acc[0]\n",
    "        l_val = i\n",
    "        best_m = m\n",
    "p_labels, p_acc, p_vals = predict(Yt, Xt, best_m)\n",
    "print(\"18.: \", (100-p_acc[0])*0.01)"
   ]
  },
  {
   "cell_type": "code",
   "execution_count": 51,
   "metadata": {},
   "outputs": [
    {
     "name": "stdout",
     "output_type": "stream",
     "text": [
      "Accuracy = 87% (261/300) (classification)\n",
      "19.:  0.13\n"
     ]
    }
   ],
   "source": [
    "##19\n",
    "##retrain by lambda*\n",
    "best_C = 1/(2*l[l_val])\n",
    "param = '-s 0 -c ' + str(best_C) + ' -e 0.000001'\n",
    "m = train(Y, X, param)\n",
    "p_labels, p_acc, p_vals = predict(Yt, Xt, m)\n",
    "print(\"19.: \", (100-p_acc[0])*0.01)"
   ]
  },
  {
   "cell_type": "code",
   "execution_count": 55,
   "metadata": {},
   "outputs": [
    {
     "ename": "ValueError",
     "evalue": "operands could not be broadcast together with shapes (0,28) (160,28) ",
     "output_type": "error",
     "traceback": [
      "\u001b[0;31m---------------------------------------------------------------------------\u001b[0m",
      "\u001b[0;31mValueError\u001b[0m                                Traceback (most recent call last)",
      "\u001b[0;32m<ipython-input-55-a38d8beb7f8b>\u001b[0m in \u001b[0;36m<module>\u001b[0;34m\u001b[0m\n\u001b[1;32m      5\u001b[0m     \u001b[0mparam\u001b[0m \u001b[0;34m=\u001b[0m \u001b[0;34m'-s 0 -c '\u001b[0m \u001b[0;34m+\u001b[0m \u001b[0mstr\u001b[0m\u001b[0;34m(\u001b[0m\u001b[0mC\u001b[0m\u001b[0;34m)\u001b[0m \u001b[0;34m+\u001b[0m \u001b[0;34m' -e 0.000001'\u001b[0m\u001b[0;34m\u001b[0m\u001b[0;34m\u001b[0m\u001b[0m\n\u001b[1;32m      6\u001b[0m     \u001b[0;32mfor\u001b[0m \u001b[0mj\u001b[0m \u001b[0;32min\u001b[0m \u001b[0mrange\u001b[0m\u001b[0;34m(\u001b[0m\u001b[0;36m5\u001b[0m\u001b[0;34m)\u001b[0m\u001b[0;34m:\u001b[0m\u001b[0;34m\u001b[0m\u001b[0;34m\u001b[0m\u001b[0m\n\u001b[0;32m----> 7\u001b[0;31m         \u001b[0mX_train\u001b[0m \u001b[0;34m=\u001b[0m \u001b[0mX\u001b[0m\u001b[0;34m[\u001b[0m\u001b[0;34m:\u001b[0m\u001b[0;36m40\u001b[0m\u001b[0;34m*\u001b[0m\u001b[0mj\u001b[0m\u001b[0;34m]\u001b[0m \u001b[0;34m+\u001b[0m \u001b[0mX\u001b[0m\u001b[0;34m[\u001b[0m\u001b[0;36m40\u001b[0m\u001b[0;34m*\u001b[0m\u001b[0;34m(\u001b[0m\u001b[0mj\u001b[0m\u001b[0;34m+\u001b[0m\u001b[0;36m1\u001b[0m\u001b[0;34m)\u001b[0m\u001b[0;34m:\u001b[0m\u001b[0;34m]\u001b[0m\u001b[0;34m\u001b[0m\u001b[0;34m\u001b[0m\u001b[0m\n\u001b[0m\u001b[1;32m      8\u001b[0m         \u001b[0mY_train\u001b[0m \u001b[0;34m=\u001b[0m \u001b[0mY\u001b[0m\u001b[0;34m[\u001b[0m\u001b[0;34m:\u001b[0m\u001b[0;36m40\u001b[0m\u001b[0;34m*\u001b[0m\u001b[0mj\u001b[0m\u001b[0;34m]\u001b[0m \u001b[0;34m+\u001b[0m \u001b[0mY\u001b[0m\u001b[0;34m[\u001b[0m\u001b[0;36m40\u001b[0m\u001b[0;34m*\u001b[0m\u001b[0;34m(\u001b[0m\u001b[0mj\u001b[0m\u001b[0;34m+\u001b[0m\u001b[0;36m1\u001b[0m\u001b[0;34m)\u001b[0m\u001b[0;34m:\u001b[0m\u001b[0;34m]\u001b[0m\u001b[0;34m\u001b[0m\u001b[0;34m\u001b[0m\u001b[0m\n\u001b[1;32m      9\u001b[0m         \u001b[0mX_val\u001b[0m \u001b[0;34m=\u001b[0m \u001b[0mX\u001b[0m\u001b[0;34m[\u001b[0m\u001b[0;36m40\u001b[0m\u001b[0;34m*\u001b[0m\u001b[0mj\u001b[0m\u001b[0;34m:\u001b[0m\u001b[0;36m40\u001b[0m\u001b[0;34m*\u001b[0m\u001b[0;34m(\u001b[0m\u001b[0mj\u001b[0m\u001b[0;34m+\u001b[0m\u001b[0;36m1\u001b[0m\u001b[0;34m)\u001b[0m\u001b[0;34m]\u001b[0m\u001b[0;34m\u001b[0m\u001b[0;34m\u001b[0m\u001b[0m\n",
      "\u001b[0;31mValueError\u001b[0m: operands could not be broadcast together with shapes (0,28) (160,28) "
     ]
    }
   ],
   "source": [
    "##20\n",
    "l = [10**(-4), 10**(-2), 10**0, 10**2, 10**4]\n",
    "min_Ecv\n",
    "for i in range(len(l)):\n",
    "    Ecv = 0\n",
    "    C = 1/(2*l[i])\n",
    "    param = '-s 0 -c ' + str(C) + ' -e 0.000001'\n",
    "    for j in range(5):\n",
    "        X_train = X[:40*j] + X[40*(j+1):]\n",
    "        Y_train = Y[:40*j] + Y[40*(j+1):]\n",
    "        X_val = X[40*j:40*(j+1)]\n",
    "        Y_val = Y[40*j:40*(j+1)]\n",
    "        print(np.shape(X_train), \":\", np.shape(X_val))\n",
    "        m = train(Y_train, X_train, param)\n",
    "        p_val_labels, p_val_acc, p_val_vals = predict(Y_val, X_val, m)\n",
    "        Ecv += (100-p_val_acc[0])*0.01\n",
    "    Ecv /= 5\n",
    "    if Ecv <= min_Ecv:\n",
    "        min_Ecv = Ecv\n",
    "print(\"20.: \", min_Ecv)"
   ]
  },
  {
   "cell_type": "code",
   "execution_count": null,
   "metadata": {},
   "outputs": [],
   "source": []
  }
 ],
 "metadata": {
  "kernelspec": {
   "display_name": "Python 3",
   "language": "python",
   "name": "python3"
  },
  "language_info": {
   "codemirror_mode": {
    "name": "ipython",
    "version": 3
   },
   "file_extension": ".py",
   "mimetype": "text/x-python",
   "name": "python",
   "nbconvert_exporter": "python",
   "pygments_lexer": "ipython3",
   "version": "3.7.7"
  }
 },
 "nbformat": 4,
 "nbformat_minor": 4
}
